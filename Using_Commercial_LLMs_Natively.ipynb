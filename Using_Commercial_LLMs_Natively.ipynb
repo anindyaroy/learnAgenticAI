{
  "cells": [
    {
      "cell_type": "markdown",
      "metadata": {
        "id": "view-in-github",
        "colab_type": "text"
      },
      "source": [
        "<a href=\"https://colab.research.google.com/github/anindyaroy/learnAgenticAI/blob/main/Using_Commercial_LLMs_Natively.ipynb\" target=\"_parent\"><img src=\"https://colab.research.google.com/assets/colab-badge.svg\" alt=\"Open In Colab\"/></a>"
      ]
    },
    {
      "cell_type": "markdown",
      "metadata": {
        "id": "ZEUwOj-GYnm8"
      },
      "source": [
        "# Using Commercial LLMs Natively\n",
        "\n",
        "Here we will see briefly how you can use popular commercial LLM APIs including\n",
        "\n",
        "- OpenAI GPT (Paid)\n",
        "- Google Gemini (Paid and Free)"
      ]
    },
    {
      "cell_type": "markdown",
      "metadata": {
        "id": "xWR3sUEoYj9R"
      },
      "source": [
        "## Install Dependencies"
      ]
    },
    {
      "cell_type": "code",
      "execution_count": null,
      "metadata": {
        "id": "AlW-xt5rQU4r"
      },
      "outputs": [],
      "source": [
        "# Updated OpenAI Python library to version 1.67.0 (March 19, 2025)\n",
        "# This version includes the latest API features and improved stability\n",
        "\n",
        "# Updated Google Generative AI library to version 0.8.4 (January 21, 2025)\n",
        "# Note: Google now recommends using their new unified Google Gen AI SDK (google-genai)\n",
        "# for accessing Gemini 2.0 and 1.5 models with enhanced capabilities"
      ]
    },
    {
      "cell_type": "code",
      "execution_count": null,
      "metadata": {
        "colab": {
          "base_uri": "https://localhost:8080/"
        },
        "id": "YeG3DmGq4uV-",
        "outputId": "fb0e2408-1aab-44b7-d5de-0b7c176e45ed"
      },
      "outputs": [
        {
          "output_type": "stream",
          "name": "stdout",
          "text": [
            "\u001b[?25l   \u001b[90m━━━━━━━━━━━━━━━━━━━━━━━━━━━━━━━━━━━━━━━━\u001b[0m \u001b[32m0.0/764.4 kB\u001b[0m \u001b[31m?\u001b[0m eta \u001b[36m-:--:--\u001b[0m\r\u001b[2K   \u001b[91m━━━━━━━━━━━━━━━━━━━━━━━━━━━━━━━━━━━━━━━\u001b[0m\u001b[91m╸\u001b[0m \u001b[32m757.8/764.4 kB\u001b[0m \u001b[31m32.3 MB/s\u001b[0m eta \u001b[36m0:00:01\u001b[0m\r\u001b[2K   \u001b[90m━━━━━━━━━━━━━━━━━━━━━━━━━━━━━━━━━━━━━━━━\u001b[0m \u001b[32m764.4/764.4 kB\u001b[0m \u001b[31m18.3 MB/s\u001b[0m eta \u001b[36m0:00:00\u001b[0m\n",
            "\u001b[?25h"
          ]
        }
      ],
      "source": [
        "!pip install openai==1.97.1 -q\n",
        "!pip install google-generativeai==0.8.5 -q"
      ]
    },
    {
      "cell_type": "markdown",
      "metadata": {
        "id": "eQCfDLCm9-nR"
      },
      "source": [
        "## Get OpenAI API Key\n",
        "\n",
        "Here you need to get API keys from the following websites based on your LLM preference:\n",
        "\n",
        "- Open AI API Key: Go [here](https://platform.openai.com/account/api-keys) and create a key, you need to setup an account and your own billing as this is a paid API. Unfortunately as per recent updates, OpenAI has phased out the free 5\\$ credits. In order to use the API, you now have to pay in your own funds (min: 5\\$).\n",
        "\n",
        "\n",
        "1. Go to [Settings -> Billing](https://platform.openai.com/settings/organization/billing/overview) after creating your account and make sure to add in a payment method and do a minimum 5$ topup (good enough for 1000s of calls as you are charged per token)\n",
        "\n",
        "![](https://i.imgur.com/pXgs31r.png)\n",
        "\n",
        "2. Go to [Dashboard -> API Keys](https://platform.openai.com/api-keys) and create a new project API key as shown below.\n",
        "\n",
        "\n",
        "![](https://i.imgur.com/YbIBBtc.png)\n",
        "\n",
        "\n",
        "\n",
        "3. Remember to __Save__ your key somewhere safe as it will just be shown once as shown below. So copy and save it in a local secure file to use it later on. If you forget, just create a new key anytime.\n",
        "\n",
        "![](https://i.imgur.com/myFXgZg.png)"
      ]
    },
    {
      "cell_type": "markdown",
      "metadata": {
        "id": "CiwGjVWK4q6F"
      },
      "source": [
        "## Load OpenAI API Credentials\n"
      ]
    },
    {
      "cell_type": "markdown",
      "metadata": {
        "id": "Vd9xaPVfmBNr"
      },
      "source": [
        "for using in Google colab"
      ]
    },
    {
      "cell_type": "code",
      "execution_count": null,
      "metadata": {
        "colab": {
          "base_uri": "https://localhost:8080/"
        },
        "id": "ryheOZuXxa41",
        "outputId": "7f30e99a-3732-4ea3-aa92-35dd99f77050"
      },
      "outputs": [
        {
          "name": "stdout",
          "output_type": "stream",
          "text": [
            "Enter your OpenAI API Key: ··········\n"
          ]
        }
      ],
      "source": [
        "from getpass import getpass\n",
        "\n",
        "openai_key = getpass(\"Enter your OpenAI API Key: \")"
      ]
    },
    {
      "cell_type": "markdown",
      "metadata": {
        "id": "d7CHjZfEAPlp"
      },
      "source": [
        "## Using ChatGPT Directly via API\n",
        "\n",
        "This is if you want to use it without wrappers like LangChain, we will show you how you use ChatGPT via the Open AI library and then how you can do the same for Gemini with Google's Gen AI library"
      ]
    },
    {
      "cell_type": "markdown",
      "metadata": {
        "id": "Sg7UuFD6AhiL"
      },
      "source": [
        "## Configure Open AI Key in Environment"
      ]
    },
    {
      "cell_type": "code",
      "execution_count": null,
      "metadata": {
        "id": "MFAe-gPYmBNs"
      },
      "outputs": [],
      "source": [
        "from openai import OpenAI\n",
        "\n",
        "client = OpenAI(api_key=openai_key)"
      ]
    },
    {
      "cell_type": "markdown",
      "metadata": {
        "id": "AxiB15nq9iJc"
      },
      "source": [
        "## API Pricing\n",
        "\n",
        "Right now the best models to use include GPT-4o-mini considering price and GPT-4o considering performance. GPT-3.5-Turbo is also a good stable alternative. Check out [pricing details here](https://openai.com/api/pricing/)\n",
        "\n",
        "![](https://i.imgur.com/U0C1Xhx.png)"
      ]
    },
    {
      "cell_type": "markdown",
      "metadata": {
        "id": "HabRE4PZAz80"
      },
      "source": [
        "## Use ChatGPT for Prompting"
      ]
    },
    {
      "cell_type": "code",
      "execution_count": null,
      "metadata": {
        "id": "CFdHmlOcQU4z"
      },
      "outputs": [],
      "source": [
        "def get_completion_chatgpt(prompt, model=\"gpt-4o-mini\"):\n",
        "    messages = [{\"role\": \"user\", \"content\": prompt}]\n",
        "    response = client.chat.completions.create(\n",
        "        model=model,\n",
        "        messages=messages,\n",
        "        temperature=0,\n",
        "    )\n",
        "    return response.choices[0].message.content"
      ]
    },
    {
      "cell_type": "code",
      "execution_count": null,
      "metadata": {
        "colab": {
          "base_uri": "https://localhost:8080/"
        },
        "id": "yI_rv0EKBCGP",
        "outputId": "1e2853f0-54c4-4e63-cc17-3bb40551b936"
      },
      "outputs": [
        {
          "output_type": "stream",
          "name": "stdout",
          "text": [
            "- **Definition and Functionality**: Generative AI refers to a class of artificial intelligence models that can create new content, such as text, images, music, or videos, by learning patterns and structures from existing data. These models, like GPT and GANs, use techniques such as deep learning to generate outputs that mimic human-like creativity.\n",
            "\n",
            "- **Applications and Impact**: Generative AI has a wide range of applications, including content creation, design, gaming, and personalized experiences. It can enhance productivity, enable new forms of artistic expression, and drive innovation across various industries, but it also raises ethical concerns regarding authenticity, copyright, and misinformation.\n"
          ]
        }
      ],
      "source": [
        "prompt = 'Explain Generative AI in 2 bullet points'\n",
        "response = get_completion_chatgpt(prompt=prompt)\n",
        "print(response)"
      ]
    },
    {
      "cell_type": "code",
      "execution_count": null,
      "metadata": {
        "colab": {
          "base_uri": "https://localhost:8080/"
        },
        "id": "ryaxUy_Q6UCA",
        "outputId": "b94b64ee-fd26-4395-9664-dd09a20f8c9b"
      },
      "outputs": [
        {
          "output_type": "stream",
          "name": "stdout",
          "text": [
            "- Generative AI is a type of artificial intelligence that is capable of creating new content, such as images, text, or music, based on patterns and data it has been trained on.\n",
            "- This technology can be used in a variety of applications, including creating realistic images for video games, generating personalized content for marketing campaigns, or even composing music.\n"
          ]
        }
      ],
      "source": [
        "prompt = 'Explain Generative AI in 2 bullet points'\n",
        "response = get_completion_chatgpt(prompt=prompt, model=\"gpt-3.5-turbo\")\n",
        "\n",
        "print(response)"
      ]
    },
    {
      "cell_type": "markdown",
      "metadata": {
        "id": "DfBA2hsIBMGN"
      },
      "source": [
        "## Get Google Gemini API Key\n",
        "\n",
        "Here you need to get API keys from the following websites based on your LLM preference:\n",
        "\n",
        "- - Gemini API Key: Go [here](https://aistudio.google.com/app/u/0/apikey) and create a key, you just need a gmail account to sign in. Till now (Oct-2024 so far), Gemini keys do not need billing as mentioned [here](https://ai.google.dev/pricing)\n",
        "\n",
        "\n",
        "1. Go to [Get API Key -> Create API Key](https://aistudio.google.com/app/u/0/apikey) after creating your account and you should be able to generate your API Key\n",
        "\n",
        "![](https://i.imgur.com/UYVkKmK.png)\n",
        "\n",
        "2. Remember to __Save__ your key somewhere safe. So copy and save it in a local secure file to use it later on.\n",
        "\n",
        "![](https://i.imgur.com/9JZyw2t.png)"
      ]
    },
    {
      "cell_type": "markdown",
      "metadata": {
        "id": "LS7koM2emZ_M"
      },
      "source": [
        "## Load Gemini API credentials\n",
        "\n",
        "Run this section only if you are using Google Gemini"
      ]
    },
    {
      "cell_type": "code",
      "execution_count": null,
      "metadata": {
        "colab": {
          "base_uri": "https://localhost:8080/"
        },
        "id": "YgpTrZ6rVd4I",
        "outputId": "019b9277-0683-443f-cdfd-62601294c938"
      },
      "outputs": [
        {
          "name": "stdout",
          "output_type": "stream",
          "text": [
            "Enter your Gemini API Key: ··········\n"
          ]
        }
      ],
      "source": [
        "from getpass import getpass\n",
        "\n",
        "gemini_key = getpass(\"Enter your Gemini API Key: \")"
      ]
    },
    {
      "cell_type": "markdown",
      "metadata": {
        "id": "BUuyA3uGAmRf"
      },
      "source": [
        "## Configure Gemini Key in Environment"
      ]
    },
    {
      "cell_type": "code",
      "execution_count": null,
      "metadata": {
        "id": "Ml_t-K4YmBNv"
      },
      "outputs": [],
      "source": [
        "import google.generativeai as genai"
      ]
    },
    {
      "cell_type": "code",
      "execution_count": null,
      "metadata": {
        "id": "8e5UfkRlAoo5"
      },
      "outputs": [],
      "source": [
        "genai.configure(api_key=gemini_key)"
      ]
    },
    {
      "cell_type": "markdown",
      "metadata": {
        "id": "2rMFzIsCL8nI"
      },
      "source": [
        "## API Pricing\n",
        "\n",
        "Right now the best models to use include Gemini 1.5 Flash and Gemini 1.5 Pro. Check out [pricing details here](https://ai.google.dev/pricing)\n",
        "\n",
        "![](https://i.imgur.com/8hR2Ti8.png)"
      ]
    },
    {
      "cell_type": "markdown",
      "metadata": {
        "id": "gWs79BIjBQCv"
      },
      "source": [
        "## Use Gemini for Prompting"
      ]
    },
    {
      "cell_type": "code",
      "execution_count": null,
      "metadata": {
        "colab": {
          "base_uri": "https://localhost:8080/",
          "height": 763
        },
        "id": "yRQaYbH1BWbU",
        "outputId": "f3d8c4d3-f224-499e-ae76-6746d5b29a8b"
      },
      "outputs": [
        {
          "output_type": "stream",
          "name": "stdout",
          "text": [
            "models/gemini-1.0-pro-vision-latest\n",
            "models/gemini-pro-vision\n",
            "models/gemini-1.5-pro-latest\n",
            "models/gemini-1.5-pro-002\n",
            "models/gemini-1.5-pro\n",
            "models/gemini-1.5-flash-latest\n",
            "models/gemini-1.5-flash\n",
            "models/gemini-1.5-flash-002\n",
            "models/gemini-1.5-flash-8b\n",
            "models/gemini-1.5-flash-8b-001\n",
            "models/gemini-1.5-flash-8b-latest\n",
            "models/gemini-2.5-pro-preview-03-25\n",
            "models/gemini-2.5-flash-preview-05-20\n",
            "models/gemini-2.5-flash\n",
            "models/gemini-2.5-flash-lite-preview-06-17\n",
            "models/gemini-2.5-pro-preview-05-06\n",
            "models/gemini-2.5-pro-preview-06-05\n",
            "models/gemini-2.5-pro\n",
            "models/gemini-2.0-flash-exp\n",
            "models/gemini-2.0-flash\n",
            "models/gemini-2.0-flash-001\n",
            "models/gemini-2.0-flash-exp-image-generation\n",
            "models/gemini-2.0-flash-lite-001\n",
            "models/gemini-2.0-flash-lite\n",
            "models/gemini-2.0-flash-preview-image-generation\n",
            "models/gemini-2.0-flash-lite-preview-02-05\n",
            "models/gemini-2.0-flash-lite-preview\n",
            "models/gemini-2.0-pro-exp\n",
            "models/gemini-2.0-pro-exp-02-05\n",
            "models/gemini-exp-1206\n",
            "models/gemini-2.0-flash-thinking-exp-01-21\n",
            "models/gemini-2.0-flash-thinking-exp\n",
            "models/gemini-2.0-flash-thinking-exp-1219\n",
            "models/gemini-2.5-flash-preview-tts\n",
            "models/gemini-2.5-pro-preview-tts\n",
            "models/learnlm-2.0-flash-experimental\n",
            "models/gemma-3-1b-it\n",
            "models/gemma-3-4b-it\n",
            "models/gemma-3-12b-it\n",
            "models/gemma-3-27b-it\n",
            "models/gemma-3n-e4b-it\n",
            "models/gemma-3n-e2b-it\n",
            "models/gemini-2.5-flash-lite\n"
          ]
        }
      ],
      "source": [
        "# use model names only from this list\n",
        "for m in genai.list_models():\n",
        "  if 'generateContent' in m.supported_generation_methods:\n",
        "    print(m.name)"
      ]
    },
    {
      "cell_type": "code",
      "execution_count": null,
      "metadata": {
        "id": "5K-Izx12X-q_"
      },
      "outputs": [],
      "source": [
        "def get_completion_gemini(prompt, model=\"gemini-2.0-flash\"):\n",
        "    model = genai.GenerativeModel(model)\n",
        "    response = model.generate_content(prompt)\n",
        "    return response.text"
      ]
    },
    {
      "cell_type": "code",
      "execution_count": null,
      "metadata": {
        "colab": {
          "base_uri": "https://localhost:8080/",
          "height": 106
        },
        "id": "rkKu-sppYN3z",
        "outputId": "9702bf7c-e43d-43aa-f20c-d8b97887bbb8"
      },
      "outputs": [
        {
          "output_type": "stream",
          "name": "stdout",
          "text": [
            "*   **Creates new content:** Generative AI models learn patterns from existing data (text, images, audio, etc.) and then use that knowledge to generate novel and original outputs that resemble the training data. It doesn't just copy or rearrange existing content.\n",
            "\n",
            "*   **Uses various architectures:** It employs techniques like Generative Adversarial Networks (GANs), Variational Autoencoders (VAEs), and Transformers to learn complex data distributions and produce coherent and diverse outputs.\n",
            "\n"
          ]
        }
      ],
      "source": [
        "prompt = 'Explain Generative AI in 2 bullet points'\n",
        "response = get_completion_gemini(prompt=prompt, model=\"gemini-2.0-flash\")\n",
        "\n",
        "print(response)"
      ]
    },
    {
      "cell_type": "code",
      "execution_count": null,
      "metadata": {
        "colab": {
          "base_uri": "https://localhost:8080/",
          "height": 106
        },
        "id": "hwv_cQzc24nM",
        "outputId": "3d49e0df-a258-4db5-95b0-3259e5a49a28"
      },
      "outputs": [
        {
          "output_type": "stream",
          "name": "stdout",
          "text": [
            "* **Creates new content:** Generative AI uses algorithms to produce various forms of content, including text, images, audio, and video, based on input data and learned patterns.\n",
            "\n",
            "* **Learns from data:** It's trained on massive datasets to understand patterns and relationships, enabling it to generate outputs that are similar in style and content to the training data, but also novel and original.\n",
            "\n"
          ]
        }
      ],
      "source": [
        "prompt = 'Explain Generative AI in 2 bullet points'\n",
        "response = get_completion_gemini(prompt=prompt, model=\"gemini-1.5-flash-latest\")\n",
        "\n",
        "print(response)"
      ]
    },
    {
      "cell_type": "code",
      "execution_count": null,
      "metadata": {
        "id": "D3qbHPy03pG3"
      },
      "outputs": [],
      "source": []
    }
  ],
  "metadata": {
    "colab": {
      "provenance": [],
      "include_colab_link": true
    },
    "kernelspec": {
      "display_name": "Python 3",
      "language": "python",
      "name": "python3"
    },
    "language_info": {
      "codemirror_mode": {
        "name": "ipython",
        "version": 3
      },
      "file_extension": ".py",
      "mimetype": "text/x-python",
      "name": "python",
      "nbconvert_exporter": "python",
      "pygments_lexer": "ipython3",
      "version": "3.12.0"
    }
  },
  "nbformat": 4,
  "nbformat_minor": 0
}