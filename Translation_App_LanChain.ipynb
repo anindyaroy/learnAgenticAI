{
  "cells": [
    {
      "cell_type": "markdown",
      "metadata": {
        "id": "view-in-github",
        "colab_type": "text"
      },
      "source": [
        "<a href=\"https://colab.research.google.com/github/anindyaroy/learnAgenticAI/blob/main/Translation_App_LanChain.ipynb\" target=\"_parent\"><img src=\"https://colab.research.google.com/assets/colab-badge.svg\" alt=\"Open In Colab\"/></a>"
      ]
    },
    {
      "cell_type": "markdown",
      "id": "a8176f16",
      "metadata": {
        "id": "a8176f16"
      },
      "source": [
        "Install the necessary libraries for LangChain and FastAPI"
      ]
    },
    {
      "cell_type": "code",
      "execution_count": null,
      "id": "96f2714f",
      "metadata": {
        "id": "96f2714f"
      },
      "outputs": [],
      "source": [
        "!pip install langchain\n",
        "!pip install -qU langchain-openai\n",
        "!pip install fastapi\n",
        "!pip install uvicorn\n",
        "!pip install langserve[all]"
      ]
    },
    {
      "cell_type": "markdown",
      "id": "b8eead32",
      "metadata": {
        "id": "b8eead32"
      },
      "source": [
        "import the necessary modules and input your OpenAI API key"
      ]
    },
    {
      "cell_type": "code",
      "execution_count": null,
      "id": "587c19fc",
      "metadata": {
        "id": "587c19fc"
      },
      "outputs": [],
      "source": [
        "import getpass\n",
        "import os\n",
        "os.environ[\"OPENAI_API_KEY\"] = getpass.getpass('Enter your OpenAI API Key:')"
      ]
    },
    {
      "cell_type": "code",
      "execution_count": null,
      "id": "6b9f141d",
      "metadata": {
        "id": "6b9f141d"
      },
      "outputs": [],
      "source": [
        "from langchain_openai import ChatOpenAI\n",
        "model = ChatOpenAI(model=\"gpt-4\")"
      ]
    },
    {
      "cell_type": "markdown",
      "id": "60b84944",
      "metadata": {
        "id": "60b84944"
      },
      "source": [
        "Using the Model for English to Japanese Translation\n",
        "We will now define a system message to specify the translation task (English to Japanese) and a human message to input the text to be translated."
      ]
    },
    {
      "cell_type": "code",
      "execution_count": null,
      "id": "74134fdd",
      "metadata": {
        "id": "74134fdd"
      },
      "outputs": [],
      "source": [
        "from langchain_core.messages import HumanMessage, SystemMessage\n",
        "\n",
        "\n",
        "messages = [\n",
        "    SystemMessage(content=\"Translate the following from English into Japanese\"),\n",
        "    HumanMessage(content=\"I love programming in Python!\"),\n",
        "]\n",
        "\n",
        "# Invoke the model with the messages\n",
        "response = model.invoke(messages)\n",
        "response.content\n"
      ]
    },
    {
      "cell_type": "markdown",
      "id": "6a9272e9",
      "metadata": {
        "id": "6a9272e9"
      },
      "source": [
        "Use Output Parsers\n",
        "The output of the model is more than just a string - it includes metadata. If we want to extract just the text of the translation, we can use an output parser"
      ]
    },
    {
      "cell_type": "code",
      "execution_count": null,
      "id": "c6e906f6",
      "metadata": {
        "id": "c6e906f6"
      },
      "outputs": [],
      "source": [
        "from langchain_core.output_parsers import StrOutputParser\n",
        "parser = StrOutputParser()\n",
        "parsed_result = parser.invoke(response)\n",
        "parsed_result"
      ]
    },
    {
      "cell_type": "markdown",
      "id": "1055a6fd",
      "metadata": {
        "id": "1055a6fd"
      },
      "source": [
        "Chaining Components Together\n",
        "chain the model and the output parser together using the | operator"
      ]
    },
    {
      "cell_type": "code",
      "execution_count": null,
      "id": "269c566f",
      "metadata": {
        "id": "269c566f"
      },
      "outputs": [],
      "source": [
        "chain = model | parser\n",
        "translated_text = chain.invoke(messages)\n",
        "translated_text"
      ]
    },
    {
      "cell_type": "markdown",
      "id": "6b1c4b41",
      "metadata": {
        "id": "6b1c4b41"
      },
      "source": [
        "Using Prompt Templates for Translation"
      ]
    },
    {
      "cell_type": "code",
      "execution_count": null,
      "id": "80efc92b",
      "metadata": {
        "id": "80efc92b"
      },
      "outputs": [],
      "source": [
        "from langchain_core.prompts import ChatPromptTemplate\n",
        "\n",
        "\n",
        "system_template = \"Translate the following text into Japanese:\"\n",
        "prompt_template = ChatPromptTemplate.from_messages([\n",
        "    ('system', system_template),\n",
        "    ('user', '{text}')\n",
        "])\n",
        "\n",
        "\n",
        "# Generate a structured message\n",
        "result = prompt_template.invoke({\"text\": \"I love programming in Python!\"})\n",
        "result.to_messages()"
      ]
    },
    {
      "cell_type": "markdown",
      "id": "cfb4dcb6",
      "metadata": {
        "id": "cfb4dcb6"
      },
      "source": [
        "Chaining with LCEL (LangChain Expression Language)\n",
        "\n",
        "We can now chain the prompt template, the language model, and the output parser to make the translation seamless"
      ]
    },
    {
      "cell_type": "code",
      "execution_count": null,
      "id": "418b2a5c",
      "metadata": {
        "id": "418b2a5c"
      },
      "outputs": [],
      "source": [
        "chain = prompt_template | model | parser\n",
        "final_translation = chain.invoke({\"text\": \"I love programming in Python!\"})\n",
        "final_translation"
      ]
    },
    {
      "cell_type": "markdown",
      "id": "fcd264dc",
      "metadata": {
        "id": "fcd264dc"
      },
      "source": [
        "Debugging with LangSmith"
      ]
    },
    {
      "cell_type": "code",
      "execution_count": null,
      "id": "41cc20dc",
      "metadata": {
        "id": "41cc20dc"
      },
      "outputs": [],
      "source": [
        "os.environ[\"LANGCHAIN_TRACING_V2\"] = \"true\"\n",
        "os.environ[\"LANGCHAIN_API_KEY\"] = getpass.getpass('Enter your LangSmith API Key: ')"
      ]
    },
    {
      "cell_type": "markdown",
      "id": "23585c78",
      "metadata": {
        "id": "23585c78"
      },
      "source": [
        "Deploying with LangServe\n"
      ]
    },
    {
      "cell_type": "code",
      "execution_count": null,
      "id": "d3b11e72",
      "metadata": {
        "id": "d3b11e72"
      },
      "outputs": [],
      "source": [
        "from fastapi import FastAPI\n",
        "from langchain_core.prompts import ChatPromptTemplate\n",
        "from langchain_core.output_parsers import StrOutputParser\n",
        "from langchain_openai import ChatOpenAI\n",
        "from langserve import add_routes\n",
        "\n",
        "import os\n",
        "from langchain_openai import ChatOpenAI\n",
        "\n",
        "# Set the OpenAI API key\n",
        "os.environ[\"OPENAI_API_KEY\"] = \"Put your api here\"\n",
        "\n",
        "# Create the model instance\n",
        "model = ChatOpenAI()\n",
        "\n",
        "# Set up the components\n",
        "system_template = \"Translate the following text into Japanese:\"Langsmithapi\n",
        "prompt_template = ChatPromptTemplate.from_messages([\n",
        "    ('system', system_template),\n",
        "    ('user', '{text}')\n",
        "])\n",
        "model = ChatOpenAI()\n",
        "parser = StrOutputParser()\n",
        "\n",
        "# Chain components\n",
        "chain = prompt_template | model | parser\n",
        "\n",
        "# FastAPI setup\n",
        "app = FastAPI(title=\"LangChain English to Japanese Translation API\", version=\"1.0\")\n",
        "add_routes(app, chain, path=\"/chain\")\n",
        "\n",
        "if __name__ == \"__main__\":\n",
        "    import uvicorn\n",
        "    uvicorn.run(app, host=\"localhost\", port=8000)"
      ]
    },
    {
      "cell_type": "markdown",
      "id": "f95e2240",
      "metadata": {
        "id": "f95e2240"
      },
      "source": [
        "Interacting Programmatically with the API"
      ]
    },
    {
      "cell_type": "code",
      "execution_count": null,
      "id": "fb041709",
      "metadata": {
        "id": "fb041709"
      },
      "outputs": [],
      "source": [
        "from langserve import RemoteRunnable\n",
        "\n",
        "remote_chain = RemoteRunnable(\"http://localhost:8000/chain/\")\n",
        "translated_text = remote_chain.invoke({\"text\": \"I love programming in Python!\"})\n",
        "print(translated_text)"
      ]
    }
  ],
  "metadata": {
    "language_info": {
      "name": "python"
    },
    "colab": {
      "provenance": [],
      "include_colab_link": true
    }
  },
  "nbformat": 4,
  "nbformat_minor": 5
}